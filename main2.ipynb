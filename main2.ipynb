{
 "cells": [
  {
   "cell_type": "markdown",
   "metadata": {},
   "source": [
    "# RLDT"
   ]
  },
  {
   "cell_type": "markdown",
   "metadata": {},
   "source": [
    "## Step 1: Import the necessary libraries:"
   ]
  },
  {
   "cell_type": "code",
   "execution_count": 2,
   "metadata": {},
   "outputs": [],
   "source": [
    "import numpy as np\n",
    "import pandas as pd\n",
    "import networkx as nx\n",
    "import random\n",
    "import torch\n",
    "import torch.nn as nn\n",
    "import torch.nn.functional as F\n",
    "import torch.optim as optim"
   ]
  },
  {
   "cell_type": "markdown",
   "metadata": {},
   "source": [
    "## Step 2: Define the environment:"
   ]
  },
  {
   "cell_type": "markdown",
   "metadata": {},
   "source": [
    "### Step 2.1: Devices"
   ]
  },
  {
   "cell_type": "markdown",
   "metadata": {},
   "source": [
    "#### *Gloabl variables*"
   ]
  },
  {
   "cell_type": "code",
   "execution_count": 3,
   "metadata": {},
   "outputs": [],
   "source": [
    "num_IOT_device = 10\n",
    "\n",
    "voltages_frequencies_IOT = [\n",
    "    (1e6, 1.8),\n",
    "    (2e6, 2.3),\n",
    "    (4e6, 2.7),\n",
    "    (8e6, 4.0),\n",
    "    (16e6, 5.0),\n",
    "    (32e6, 6.5),\n",
    "]\n",
    "num_MEC_devices = 5\n",
    "\n",
    "voltages_frequencies_MEC = [\n",
    "    (6 * 1e8, 0.8),\n",
    "    (7.5 * 1e8, 0.825),\n",
    "    (10 * 1e8, 1.0),\n",
    "    (15 * 1e8, 1.2),\n",
    "    (30 * 1e8, 2),\n",
    "    (40 * 1e8, 3.1),\n",
    "]\n",
    "\n",
    "task_kinds = [1,2,3,4]\n",
    "\n",
    "min_num_nodes_dag = 4\n",
    "max_num_nodes_dag = 20\n",
    "max_num_parents_dag = 5\n",
    "\n",
    "num_dag_generations = 10000"
   ]
  },
  {
   "cell_type": "markdown",
   "metadata": {},
   "source": [
    "#### *IOT*"
   ]
  },
  {
   "cell_type": "code",
   "execution_count": 4,
   "metadata": {},
   "outputs": [
    {
     "ename": "NameError",
     "evalue": "name 'num_IOT_devices' is not defined",
     "output_type": "error",
     "traceback": [
      "\u001b[0;31m---------------------------------------------------------------------------\u001b[0m",
      "\u001b[0;31mNameError\u001b[0m                                 Traceback (most recent call last)",
      "Cell \u001b[0;32mIn[4], line 2\u001b[0m\n\u001b[1;32m      1\u001b[0m devices_data_IOT \u001b[38;5;241m=\u001b[39m []\n\u001b[0;32m----> 2\u001b[0m \u001b[38;5;28;01mfor\u001b[39;00m i \u001b[38;5;129;01min\u001b[39;00m \u001b[38;5;28mrange\u001b[39m(\u001b[43mnum_IOT_devices\u001b[49m):\n\u001b[1;32m      3\u001b[0m     cpu_cores \u001b[38;5;241m=\u001b[39m np\u001b[38;5;241m.\u001b[39mrandom\u001b[38;5;241m.\u001b[39mchoice([\u001b[38;5;241m4\u001b[39m, \u001b[38;5;241m6\u001b[39m, \u001b[38;5;241m8\u001b[39m])\n\u001b[1;32m      4\u001b[0m     device_info \u001b[38;5;241m=\u001b[39m {\n\u001b[1;32m      5\u001b[0m         \u001b[38;5;124m\"\u001b[39m\u001b[38;5;124mid\u001b[39m\u001b[38;5;124m\"\u001b[39m: i,\n\u001b[1;32m      6\u001b[0m         \u001b[38;5;124m\"\u001b[39m\u001b[38;5;124mnumber_of_cpu_cores\u001b[39m\u001b[38;5;124m\"\u001b[39m: cpu_cores,\n\u001b[0;32m   (...)\u001b[0m\n\u001b[1;32m     25\u001b[0m         \u001b[38;5;124m\"\u001b[39m\u001b[38;5;124mhandleSafeTask\u001b[39m\u001b[38;5;124m\"\u001b[39m: np\u001b[38;5;241m.\u001b[39mrandom\u001b[38;5;241m.\u001b[39mchoice([\u001b[38;5;241m0\u001b[39m, \u001b[38;5;241m1\u001b[39m], p\u001b[38;5;241m=\u001b[39m[\u001b[38;5;241m0.25\u001b[39m, \u001b[38;5;241m0.75\u001b[39m]),\n\u001b[1;32m     26\u001b[0m     }\n",
      "\u001b[0;31mNameError\u001b[0m: name 'num_IOT_devices' is not defined"
     ]
    }
   ],
   "source": [
    "devices_data_IOT = []\n",
    "for i in range(num_IOT_device):\n",
    "    cpu_cores = np.random.choice([4, 6, 8])\n",
    "    device_info = {\n",
    "        \"id\": i,\n",
    "        \"number_of_cpu_cores\": cpu_cores,\n",
    "        \"occupied_cores\": [np.random.choice([0, 1]) for _ in range(cpu_cores)],\n",
    "        \"voltages_frequencies\": [\n",
    "            [\n",
    "                voltages_frequencies_IOT[i]\n",
    "                for i in np.random.choice(6, size=4, replace=False)\n",
    "            ]\n",
    "            for core in range(cpu_cores)\n",
    "        ],\n",
    "        \"ISL\": np.random.randint(10, 21),\n",
    "        \"capacitance\": [np.random.uniform(2, 3) * 1e-9 for _ in range(cpu_cores)],\n",
    "        \"powerIdle\": [\n",
    "            np.random.choice([700, 800, 900]) * 1e-6 for _ in range(cpu_cores)\n",
    "        ],\n",
    "        \"batteryLevel\": np.random.randint(36, 41) * 1e9,\n",
    "        \"errorRate\": np.random.randint(1, 6) / 100,\n",
    "        \"accetableTasks\": np.random.choice(\n",
    "            task_kinds, size=np.random.randint(2, 5), replace=False\n",
    "        ),\n",
    "        \"handleSafeTask\": np.random.choice([0, 1], p=[0.25, 0.75]),\n",
    "    }\n",
    "    devices_data_IOT.append(device_info)\n",
    "\n",
    "IoTdevices = pd.DataFrame(devices_data_IOT)\n",
    "\n",
    "IoTdevices.set_index(\"id\", inplace=True)\n",
    "IoTdevices"
   ]
  },
  {
   "cell_type": "markdown",
   "metadata": {},
   "source": [
    "#### *MEC*"
   ]
  },
  {
   "cell_type": "code",
   "execution_count": null,
   "metadata": {},
   "outputs": [],
   "source": [
    "devices_data_MEC = []\n",
    "for i in range(num_MEC_devices):\n",
    "    cpu_cores = np.random.choice([16,32,64])\n",
    "    device_info = {\n",
    "        \"id\": i,\n",
    "        \"number_of_cpu_cores\": cpu_cores,\n",
    "        \"occupied_cores\": [np.random.choice([0, 1]) for _ in range(cpu_cores)],\n",
    "        \"voltages_frequencies\": [[\n",
    "            voltages_frequencies_MEC[i]\n",
    "            for i in np.random.choice(6, size=4, replace=False)\n",
    "        ]for core in range(cpu_cores)],\n",
    "        \"capacitance\": [np.random.uniform(1.5, 2) * 1e-9 for _ in range(cpu_cores)],\n",
    "        \"powerIdle\": [np.random.choice([9, 9, 10]) * 1e-5 for _ in range(cpu_cores)],\n",
    "        \"errorRate\": np.random.randint(5, 11) / 100,\n",
    "        \"accetableTasks\": np.random.choice(\n",
    "            task_kinds, size=np.random.randint(2, 5), replace=False\n",
    "        ),\n",
    "        \"handleSafeTask\": np.random.choice([0, 1], p=[0.75, 0.25]),\n",
    "        \"batteryLevel\": 100,\n",
    "        \"ISL\": 0,\n",
    "    }\n",
    "    devices_data_MEC.append(device_info)\n",
    "\n",
    "MECDevices = pd.DataFrame(devices_data_MEC)\n",
    "\n",
    "MECDevices.set_index(\"id\", inplace=True)\n",
    "MECDevices"
   ]
  },
  {
   "cell_type": "markdown",
   "metadata": {},
   "source": [
    "#### *CLOUD*"
   ]
  },
  {
   "cell_type": "code",
   "execution_count": null,
   "metadata": {},
   "outputs": [],
   "source": [
    "cloud_configurations = [(1,13.85), (2,3.9e9,24.28)]\n",
    "device_info = [\n",
    "    {\n",
    "        \"id\": 0,\n",
    "        \"number_of_cpu_cores\": 1,\n",
    "        \"occupied_cores\": [0],\n",
    "        \"voltages_frequencies\": [[2.8e9, 3.9e9]],\n",
    "        \"capacitance\": (13.85, 24.28),\n",
    "        \"powerIdle\": 0,\n",
    "        \"ISL\": 0,\n",
    "        \"batteryLevel\": 100,\n",
    "        \"errorRate\": 0.1,\n",
    "        \"accetableTasks\": [1, 2, 3, 4],\n",
    "        \"handleSafeTask\": 0,\n",
    "    }\n",
    "]\n",
    "cloud = pd.DataFrame(device_info)\n",
    "cloud=cloud.set_index(\"id\")\n",
    "cloud"
   ]
  },
  {
   "cell_type": "markdown",
   "metadata": {},
   "source": [
    "####        ALL THE DEVICES"
   ]
  },
  {
   "cell_type": "code",
   "execution_count": null,
   "metadata": {},
   "outputs": [],
   "source": [
    "devices = pd.concat([IoTdevices,MECDevices,cloud],ignore_index=True)\n",
    "devices"
   ]
  },
  {
   "cell_type": "markdown",
   "metadata": {},
   "source": [
    "### Step 2.2: Application"
   ]
  },
  {
   "cell_type": "markdown",
   "metadata": {},
   "source": [
    "#### *helper function : generate_random_dag*"
   ]
  },
  {
   "cell_type": "code",
   "execution_count": null,
   "metadata": {},
   "outputs": [],
   "source": [
    "def generate_random_dag(num_nodes):\n",
    "    dag = nx.DiGraph()\n",
    "\n",
    "    nodes = [f\"t{i+1}\" for i in range(num_nodes)]\n",
    "    dag.add_nodes_from(nodes)\n",
    "\n",
    "    available_parents = {node: list(nodes[:i]) for i, node in enumerate(nodes)}\n",
    "\n",
    "    for i in range(2, num_nodes + 1):\n",
    "       \n",
    "        num_parents = min(\n",
    "            random.randint(1, min(i, max_num_parents_dag)), len(available_parents[f\"t{i}\"])\n",
    "        )\n",
    "\n",
    "        # select parents\n",
    "        parent_nodes = random.sample(available_parents[f\"t{i}\"], num_parents)\n",
    "        # add parents\n",
    "        dag.add_edges_from((parent_node, f\"t{i}\") for parent_node in parent_nodes)\n",
    "\n",
    "        # update available parents\n",
    "        available_parents[f\"t{i}\"] = list(nodes[:i])\n",
    "\n",
    "    return dag"
   ]
  },
  {
   "cell_type": "markdown",
   "metadata": {},
   "source": [
    "#### *Generate task DAGs*"
   ]
  },
  {
   "cell_type": "code",
   "execution_count": null,
   "metadata": {},
   "outputs": [],
   "source": [
    "tasks_data = []\n",
    "\n",
    "start_node_number = 1\n",
    "for run in range(num_dag_generations):\n",
    "\n",
    "    num_nodes = random.randint(min_num_nodes_dag, max_num_nodes_dag)\n",
    "\n",
    "    random_dag = generate_random_dag(num_nodes)\n",
    "\n",
    "    mapping = {\n",
    "        f\"t{i}\": f\"t{i + start_node_number - 1}\" for i in range(1, num_nodes + 1)\n",
    "    }\n",
    "\n",
    "    random_dag = nx.relabel_nodes(random_dag, mapping)\n",
    "    for node in random_dag.nodes:\n",
    "        parents = list(random_dag.predecessors(node))\n",
    "        task_info = {\n",
    "            \"id\": node,\n",
    "            \"job\": run,\n",
    "            \"dependency\": parents,\n",
    "            \"mobility\": np.random.randint(1, 10),\n",
    "            \"kind\": np.random.choice(task_kinds),\n",
    "            \"safe\": np.random.choice([0, 1], p=[0.95, 0.05]),\n",
    "            \"computationalLoad\": int(np.random.uniform(1, 100) * 1e4),\n",
    "            \"dataEntrySize\": (np.random.randint(10, 100) // 10)\n",
    "            * (10 ** np.random.choice([3, 6])),\n",
    "            \"returnDataSize\": (np.random.randint(10, 100) // 10)\n",
    "            * (10 ** np.random.choice([3, 6])),\n",
    "            \"status\": \"READY\",\n",
    "        }\n",
    "        tasks_data.append(task_info)\n",
    "    start_node_number += num_nodes\n",
    "\n",
    "np.random.shuffle(tasks_data)\n",
    "tasks = pd.DataFrame(tasks_data)\n",
    "\n",
    "tasks.set_index(\"id\", inplace=True)\n",
    "tasks"
   ]
  },
  {
   "cell_type": "markdown",
   "metadata": {},
   "source": [
    "## Step 3: Preprocessing"
   ]
  },
  {
   "cell_type": "markdown",
   "metadata": {},
   "source": [
    "### Step 3.1: Clustering"
   ]
  },
  {
   "cell_type": "code",
   "execution_count": null,
   "metadata": {},
   "outputs": [],
   "source": [
    "devices"
   ]
  },
  {
   "cell_type": "code",
   "execution_count": null,
   "metadata": {},
   "outputs": [],
   "source": [
    "from sklearn.cluster import KMeans\n",
    "from sklearn.preprocessing import StandardScaler\n",
    "\n",
    "\n",
    "def calculate_mean_voltage_frequency(input):\n",
    "    output = 0\n",
    "    for x in input:\n",
    "        if len(x) == 2:\n",
    "            output += (x[0] + x[1]) / 2\n",
    "        else:\n",
    "            output += sum([vf[0] / vf[1] for vf in x]) / len(x)\n",
    "    return output / len(input)\n",
    "\n",
    "\n",
    "selected_features = [\n",
    "    \"number_of_cpu_cores\",\n",
    "    \"voltages_frequencies\",\n",
    "    \"capacitance\",\n",
    "    \"ISL\",\n",
    "    \"batteryLevel\",\n",
    "    \"errorRate\",\n",
    "    \"accetableTasks\",\n",
    "]\n",
    "\n",
    "X = devices[selected_features].copy()\n",
    "X[\"mean_voltage_frequency\"] = X[\"voltages_frequencies\"].apply(\n",
    "    calculate_mean_voltage_frequency\n",
    ")\n",
    "X[\"mean_capacitance\"] = X[\"capacitance\"].apply(lambda x: sum(x) / len(x))\n",
    "X[\"meanBattery\"] = X[\"batteryLevel\"] * (1 - X[\"ISL\"])\n",
    "X[\"doesAcceptT1\"] = X[\"accetableTasks\"].apply(lambda x: 1 in x)\n",
    "X[\"doesAcceptT2\"] = X[\"accetableTasks\"].apply(lambda x: 2 in x)\n",
    "X[\"doesAcceptT3\"] = X[\"accetableTasks\"].apply(lambda x: 3 in x)\n",
    "X[\"doesAcceptT4\"] = X[\"accetableTasks\"].apply(lambda x: 4 in x)\n",
    "\n",
    "X.drop(\n",
    "    [\"voltages_frequencies\", \"capacitance\", \"batteryLevel\", \"ISL\", \"accetableTasks\"],\n",
    "    axis=1,\n",
    "    inplace=True,\n",
    ")\n",
    "\n",
    "\n",
    "scaler = StandardScaler()\n",
    "X_scaled = scaler.fit_transform(X)\n",
    "\n",
    "n_clusters = 8\n",
    "\n",
    "kmeans = KMeans(n_clusters=n_clusters, n_init='auto', random_state=42)\n",
    "kmeans.fit(X_scaled)\n",
    "cluster_labels = kmeans.labels_\n",
    "\n",
    "devices[\"cluster\"] = cluster_labels\n",
    "devices"
   ]
  },
  {
   "cell_type": "markdown",
   "metadata": {},
   "source": [
    "## Step 4 : DDT"
   ]
  },
  {
   "cell_type": "markdown",
   "metadata": {},
   "source": [
    "### Step 4.1:  Initializing The tree"
   ]
  },
  {
   "cell_type": "code",
   "execution_count": null,
   "metadata": {},
   "outputs": [],
   "source": [
    "class DDT(nn.Module):\n",
    "    def __init__(self, num_input, num_output, depth, max_depth):\n",
    "        super(DDT, self).__init__()\n",
    "        self.depth = depth\n",
    "        self.max_depth = max_depth\n",
    "        if depth != max_depth:\n",
    "            self.weights = nn.Parameter(torch.zeros(num_input))\n",
    "            self.bias = nn.Parameter(torch.zeros(1))\n",
    "        if depth == max_depth:\n",
    "            self.prob_dist = nn.Parameter(torch.zeros(num_output))\n",
    "\n",
    "        if depth < max_depth:\n",
    "            self.left = DDT(num_input, num_output, depth + 1, max_depth)\n",
    "            self.right = DDT(num_input, num_output, depth + 1, max_depth)\n",
    "\n",
    "    def forward(self, x):\n",
    "        if self.depth == self.max_depth:\n",
    "            return self.prob_dist.softmax(dim=0)\n",
    "        val = torch.sigmoid(torch.matmul(x, self.weights.t()) + self.bias)\n",
    "        a = np.random.uniform(0, 1)\n",
    "        if val>=0.5:\n",
    "            if a < 0.10:\n",
    "                return val * self.left(x)\n",
    "            return val * self.right(x)\n",
    "        else:\n",
    "            if a < 0.10:\n",
    "                return val * self.right(x)\n",
    "            return val * self.left(x)"
   ]
  },
  {
   "cell_type": "code",
   "execution_count": null,
   "metadata": {},
   "outputs": [],
   "source": []
  },
  {
   "cell_type": "markdown",
   "metadata": {},
   "source": [
    "## Step 5: RL"
   ]
  },
  {
   "cell_type": "code",
   "execution_count": null,
   "metadata": {},
   "outputs": [],
   "source": [
    "def getStatusOfDependcy(dependency):\n",
    "    result = 0\n",
    "    for dep in dependency:\n",
    "        result += tasks_copy.loc[dep, \"status\"]\n",
    "    return result\n",
    "\n",
    "\n",
    "tasks_copy = tasks.copy()\n",
    "tasks_copy[\"status\"] = tasks_copy[\"status\"].map(\n",
    "    {\"WAIT\": 0, \"READY\": 1, \"QUEUED\": 2, \"SCEDULED\": 3}\n",
    ")\n",
    "tasks_copy[\"dependency\"] = tasks_copy[\"dependency\"].apply(getStatusOfDependcy)\n",
    "\n",
    "taskList = tasks_copy.index.tolist()\n",
    "devices_copy = devices.copy()"
   ]
  },
  {
   "cell_type": "code",
   "execution_count": null,
   "metadata": {},
   "outputs": [],
   "source": [
    "def calc_execution_time(device, task, core,dvfs):\n",
    "    if device['number_of_cpu_cores'] ==1:\n",
    "        return task[\"computationalLoad\"] / device[\"voltages_frequencies\"][0][0]\n",
    "    return task[\"computationalLoad\"] / device[\"voltages_frequencies\"][core][dvfs][0]\n",
    "\n",
    "\n",
    "def calc_power_consumption(device,task,core,dvfs):\n",
    "    if device[\"number_of_cpu_cores\"] == 1:\n",
    "       return device[\"capacitance\"][0] * calc_execution_time(device, task, core, dvfs)\n",
    "    return (\n",
    "        device[\"capacitance\"][core]\n",
    "        * (device[\"voltages_frequencies\"][core][dvfs][1] ** 2)\n",
    "        * calc_execution_time(device, task, core, dvfs)\n",
    "    )"
   ]
  },
  {
   "cell_type": "code",
   "execution_count": null,
   "metadata": {},
   "outputs": [],
   "source": [
    "tasks_copy"
   ]
  },
  {
   "cell_type": "code",
   "execution_count": null,
   "metadata": {},
   "outputs": [],
   "source": [
    "taskList = tasks_copy.index.tolist()\n",
    "\n",
    "class Environment:\n",
    "    def __init__(self):\n",
    "        self.feature_size = 9\n",
    "        self.num_actions = 8\n",
    "        self.max_depth = 3\n",
    "        self.agent = DDT(self.feature_size, self.num_actions, depth=0, max_depth=self.max_depth)\n",
    "        self.optimizer = optim.Adam(self.agent.parameters(), lr=0.005)\n",
    "\n",
    "    def execute_action(self, state, action):\n",
    "        taskList.pop(0)\n",
    "\n",
    "        selected_cluster = devices_copy[devices_copy[\"cluster\"] == action]\n",
    "        for row, device in selected_cluster.iterrows():\n",
    "            checkAvailableCoree = (sum(device[\"occupied_cores\"]) != device[\"number_of_cpu_cores\"])\n",
    "            checkIfSutible = state['kind'] in device['accetableTasks'] \n",
    "            checkBattery = device['batteryLevel'] > device['ISL']*2e8\n",
    "            if (\n",
    "                checkAvailableCoree\n",
    "                and checkIfSutible\n",
    "                and checkBattery\n",
    "                and np.random.rand() > device['errorRate']\n",
    "            ):  \n",
    "                for coreIndex in range(len(device[\"occupied_cores\"])):\n",
    "                    if device[\"occupied_cores\"][coreIndex] ==0:\n",
    "                        e = calc_power_consumption(device, state,coreIndex, 0)\n",
    "                        t = calc_execution_time(device, state,coreIndex, 0)\n",
    "                        return (tasks_copy.loc[taskList[0]], -1 * t + -1 * e)\n",
    "        return (tasks_copy.loc[taskList[0]],100)\n",
    "\n",
    "    def train(self, num_epoch, num_episodes):\n",
    "        for i in range(num_epoch):\n",
    "            total_loss = 0\n",
    "            for j in range(num_episodes):\n",
    "                state = tasks_copy.loc[taskList[0]]\n",
    "                x = torch.tensor(np.array(state.values, dtype=np.float32)).unsqueeze(0)\n",
    "\n",
    "                output = self.agent(x)\n",
    "                action_probabilities = torch.softmax(output, dim=0)\n",
    "\n",
    "                # Sample an action based on the output probabilities\n",
    "                action_index = torch.multinomial(torch.softmax(output, dim=0), 1).item()\n",
    "                next_state, reward = self.execute_action(state, action_index)\n",
    "\n",
    "                # Calculate the loss as the negative log probability of the chosen action multiplied by the reward\n",
    "                loss = (\n",
    "                    output[action_index] * reward\n",
    "                ) \n",
    "                print(output,action_index,reward,loss)\n",
    "                total_loss += loss\n",
    "            self.optimizer.zero_grad()\n",
    "            avg_loss = total_loss/num_episodes\n",
    "            avg_loss.backward()\n",
    "            self.optimizer.step()\n",
    "            print(f\"Epoch {i+1}, Average Loss: {avg_loss}\")\n",
    "            # for name, param in env.agent.named_parameters():\n",
    "            # print(name, param.grad)\n",
    "\n",
    "\n",
    "env = Environment()\n",
    "tree = env.agent\n",
    "env.train(2, 10)\n",
    "print('///////////////////')\n",
    "for name, param in env.agent.named_parameters():\n",
    "    if \"prob_dist\" not in name:\n",
    "        print(name,param)"
   ]
  },
  {
   "cell_type": "code",
   "execution_count": null,
   "metadata": {},
   "outputs": [],
   "source": []
  },
  {
   "cell_type": "code",
   "execution_count": null,
   "metadata": {},
   "outputs": [],
   "source": []
  }
 ],
 "metadata": {
  "kernelspec": {
   "display_name": "main-env",
   "language": "python",
   "name": "python3"
  },
  "language_info": {
   "codemirror_mode": {
    "name": "ipython",
    "version": 3
   },
   "file_extension": ".py",
   "mimetype": "text/x-python",
   "name": "python",
   "nbconvert_exporter": "python",
   "pygments_lexer": "ipython3",
   "version": "3.11.5"
  }
 },
 "nbformat": 4,
 "nbformat_minor": 2
}
