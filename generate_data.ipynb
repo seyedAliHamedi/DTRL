{
 "cells": [
  {
   "cell_type": "markdown",
   "metadata": {},
   "source": [
    "# RLDT\n"
   ]
  },
  {
   "cell_type": "markdown",
   "metadata": {},
   "source": []
  },
  {
   "cell_type": "markdown",
   "metadata": {},
   "source": [
    "## Step 1: Import the necessary libraries:\n"
   ]
  },
  {
   "cell_type": "code",
   "execution_count": 1,
   "metadata": {},
   "outputs": [],
   "source": [
    "import numpy as np\n",
    "import pandas as pd\n",
    "import networkx as nx\n",
    "import random"
   ]
  },
  {
   "cell_type": "code",
   "execution_count": 2,
   "metadata": {},
   "outputs": [],
   "source": [
    "num_IOT_devices = 10\n",
    "\n",
    "voltages_frequencies_IOT = [\n",
    "    (10e6  , 1.8),\n",
    "    (20e6  , 2.3),\n",
    "    (40e6  , 2.7),\n",
    "    (80e6  , 4.0),\n",
    "    (160e6 , 5.0),\n",
    "]\n",
    "\n",
    "num_MEC_devices = 5\n",
    "\n",
    "voltages_frequencies_MEC = [\n",
    "    (1500e6 ,  1.2),\n",
    "    (1000e6 ,  1.0),\n",
    "    (750e6, 0.825),\n",
    "    (600e6, 0.8),\n",
    "]\n",
    "\n",
    "task_kinds = [1,2,3,4]\n",
    "\n",
    "min_num_nodes_dag = 4\n",
    "max_num_nodes_dag = 20\n",
    "max_num_parents_dag = 5\n",
    "num_dag_generations = 50000\n",
    "\n",
    "devices_path = \"./resources/mini_devices.csv\"\n",
    "# tasks_path = \"./resources/mini_tasks.csv\"\n",
    "tasks_path = \"./resources/tasks.csv\""
   ]
  },
  {
   "cell_type": "markdown",
   "metadata": {},
   "source": [
    "## Step 2: Define the environment:\n"
   ]
  },
  {
   "cell_type": "markdown",
   "metadata": {},
   "source": [
    "### Step 2.1: Devices\n"
   ]
  },
  {
   "cell_type": "markdown",
   "metadata": {},
   "source": [
    "#### _IOT_\n"
   ]
  },
  {
   "cell_type": "code",
   "execution_count": 3,
   "metadata": {},
   "outputs": [],
   "source": [
    "devices_data_IOT = []\n",
    "for i in range(num_IOT_devices):\n",
    "    cpu_cores = np.random.choice([4, 8, 16])\n",
    "    device_info = {\n",
    "        \"id\": f\"iot {i}\",\n",
    "        \"number_of_cpu_cores\": cpu_cores,\n",
    "        \"occupied_cores\": [0 for _ in range(cpu_cores)],\n",
    "        \"voltages_frequencies\": [\n",
    "            [\n",
    "                voltages_frequencies_IOT[i]\n",
    "                for i in np.random.choice(5, size=3, replace=False)\n",
    "            ]\n",
    "            for core in range(cpu_cores)\n",
    "        ],\n",
    "        \"ISL\": np.random.randint(10, 21) / 100,\n",
    "        \"capacitance\": [np.random.uniform(2, 3) * 1e-10 for _ in range(cpu_cores)],\n",
    "        \"powerIdle\": [\n",
    "            np.random.choice([800, 900,1000]) * 1e-6 for _ in range(cpu_cores)\n",
    "        ],\n",
    "        \"batteryLevel\": np.random.randint(36, 41) * 1e9,\n",
    "        \"errorRate\": np.random.randint(1, 6) / 100,\n",
    "        \"acceptableTasks\": list(np.random.choice(\n",
    "            task_kinds, size=np.random.randint(2,4), replace=False\n",
    "        )),\n",
    "        \"handleSafeTask\": np.random.choice([0, 1], p=[0.25, 0.75]),\n",
    "    }\n",
    "    devices_data_IOT.append(device_info)\n",
    "\n",
    "IoTdevices = pd.DataFrame(devices_data_IOT)\n"
   ]
  },
  {
   "cell_type": "markdown",
   "metadata": {},
   "source": [
    "#### _MEC_\n"
   ]
  },
  {
   "cell_type": "code",
   "execution_count": 4,
   "metadata": {},
   "outputs": [],
   "source": [
    "devices_data_MEC = []\n",
    "for i in range(num_MEC_devices):\n",
    "    cpu_cores = np.random.choice([16, 32, 64])\n",
    "    device_info = {\n",
    "        \"id\":f\"mec {i}\",\n",
    "        \"number_of_cpu_cores\": cpu_cores,\n",
    "        \"occupied_cores\": [0 for _ in range(cpu_cores)],\n",
    "        \"voltages_frequencies\":[\n",
    "            [\n",
    "                voltages_frequencies_MEC[i]\n",
    "                for i in np.random.choice(4, size=3, replace=False)\n",
    "            ]\n",
    "            for core in range(cpu_cores)\n",
    "        ],\n",
    "        \"capacitance\": [np.random.uniform(1.5, 2) * 1e-9 for _ in range(cpu_cores)],\n",
    "        \"powerIdle\": [np.random.choice([550, 650, 750]) * 1e-3 for _ in range(cpu_cores)],\n",
    "        \"errorRate\": np.random.randint(5, 11) / 100,\n",
    "        \"acceptableTasks\": list(np.random.choice(\n",
    "            task_kinds, size=np.random.randint(2, 4), replace=False\n",
    "        )),\n",
    "        \"handleSafeTask\": np.random.choice([0, 1], p=[0.5, 0.5]),\n",
    "        \"batteryLevel\": 100,\n",
    "        \"ISL\": 0,\n",
    "    }\n",
    "    devices_data_MEC.append(device_info)\n",
    "\n",
    "MECDevices = pd.DataFrame(devices_data_MEC)\n"
   ]
  },
  {
   "cell_type": "markdown",
   "metadata": {},
   "source": [
    "#### _CLOUD_\n"
   ]
  },
  {
   "cell_type": "code",
   "execution_count": 5,
   "metadata": {},
   "outputs": [],
   "source": [
    "device_info = [\n",
    "    {\n",
    "        \"id\": 'cloud',\n",
    "        \"number_of_cpu_cores\": 1,\n",
    "        \"occupied_cores\": [0],\n",
    "        \"voltages_frequencies\": [2.8e9, 3.9e9],\n",
    "        \"capacitance\": (13.85, 24.28),\n",
    "        \"powerIdle\": 0,\n",
    "        \"ISL\": 0,\n",
    "        \"batteryLevel\": 100,\n",
    "        \"errorRate\": 0.1,\n",
    "        \"acceptableTasks\": [1, 2, 3, 4],\n",
    "        \"handleSafeTask\": 0,\n",
    "    }\n",
    "]\n",
    "cloud = pd.DataFrame(device_info)"
   ]
  },
  {
   "cell_type": "markdown",
   "metadata": {},
   "source": [
    "#### ALL THE DEVICES\n"
   ]
  },
  {
   "cell_type": "code",
   "execution_count": 6,
   "metadata": {},
   "outputs": [],
   "source": [
    "devices = pd.concat([IoTdevices,MECDevices,cloud],ignore_index=True)\n",
    "devices.to_csv(devices_path)\n"
   ]
  }
 ],
 "metadata": {
  "kernelspec": {
   "display_name": "main-env",
   "language": "python",
   "name": "python3"
  },
  "language_info": {
   "codemirror_mode": {
    "name": "ipython",
    "version": 3
   },
   "file_extension": ".py",
   "mimetype": "text/x-python",
   "name": "python",
   "nbconvert_exporter": "python",
   "pygments_lexer": "ipython3",
   "version": "3.12.3"
  }
 },
 "nbformat": 4,
 "nbformat_minor": 2
}
